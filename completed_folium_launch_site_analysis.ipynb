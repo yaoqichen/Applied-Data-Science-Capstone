{
 "cells": [
  {
   "cell_type": "markdown",
   "id": "5b8ebd00",
   "metadata": {},
   "source": [
    "\n",
    "# **Launch Sites Locations Analysis with Folium**\n",
    "The launch success rate may depend on many factors such as payload mass, orbit type, and location of the launch site. This notebook uses Folium to visualize the location of SpaceX launch sites and their proximity to cities, highways, and coastlines.\n",
    "\n",
    "### Tasks:\n",
    "1. Create a map and mark the SpaceX launch sites.\n",
    "2. Calculate and display the distance between the launch site and proximities such as cities, railways, and highways.\n"
   ]
  },
  {
   "cell_type": "code",
   "execution_count": null,
   "id": "51c50a16",
   "metadata": {},
   "outputs": [],
   "source": [
    "\n",
    "# Import necessary libraries\n",
    "import folium\n",
    "import pandas as pd\n",
    "from folium import Marker, Circle\n",
    "from folium.plugins import MarkerCluster, DistanceCalculator\n",
    "\n",
    "# Load SpaceX launch data\n",
    "spacex_df = pd.read_csv(\"https://cf-courses-data.s3.us.cloud-object-storage.appdomain.cloud/IBMDeveloperSkillsNetwork-DS0321EN-SpaceX/labs/module_3/spacex_launch_geo.csv\")\n",
    "\n",
    "# Display the first few rows of the dataset\n",
    "spacex_df.head()\n"
   ]
  },
  {
   "cell_type": "code",
   "execution_count": null,
   "id": "20b08cb1",
   "metadata": {},
   "outputs": [],
   "source": [
    "\n",
    "# TASK 1: Create a folium map of SpaceX launch sites\n",
    "\n",
    "# Define coordinates for the center of the map\n",
    "initial_location = [29.559684888503615, -95.0830971930759]\n",
    "\n",
    "# Create a folium map object\n",
    "spacex_map = folium.Map(location=initial_location, zoom_start=5)\n",
    "\n",
    "# Add markers for each launch site\n",
    "for index, launch_site in spacex_df.iterrows():\n",
    "    folium.Marker(\n",
    "        location=[launch_site['Lat'], launch_site['Long']], \n",
    "        popup=launch_site['Launch Site'], \n",
    "        icon=folium.Icon(color='blue', icon='rocket', prefix='fa')\n",
    "    ).add_to(spacex_map)\n",
    "\n",
    "# Display the map\n",
    "spacex_map\n"
   ]
  },
  {
   "cell_type": "code",
   "execution_count": null,
   "id": "2ffc5425",
   "metadata": {},
   "outputs": [],
   "source": [
    "\n",
    "# TASK 2: Calculate distance between launch site and proximities (cities, highways, coastline)\n",
    "\n",
    "# Function to calculate distance between two points using Haversine formula\n",
    "from geopy.distance import geodesic\n",
    "\n",
    "# Define a few sample locations (city, highway, coastline) for demonstration\n",
    "cities = {'Houston': [29.7604, -95.3698], 'Los Angeles': [34.0522, -118.2437]}\n",
    "highway = [29.7805, -95.3863]  # Example coordinates for highway\n",
    "coastline = [28.5633, -80.5670]  # Example coordinates for coastline\n",
    "\n",
    "# Add distance markers on the map\n",
    "for launch_site in spacex_df.itertuples():\n",
    "    launch_site_location = [launch_site.Lat, launch_site.Long]\n",
    "    \n",
    "    # Calculate distances to city, highway, and coastline\n",
    "    city_distance = geodesic(launch_site_location, cities['Houston']).km\n",
    "    highway_distance = geodesic(launch_site_location, highway).km\n",
    "    coastline_distance = geodesic(launch_site_location, coastline).km\n",
    "    \n",
    "    # Add markers for proximities\n",
    "    folium.Marker(cities['Houston'], popup=f\"Distance to Houston: {city_distance:.2f} km\").add_to(spacex_map)\n",
    "    folium.Marker(highway, popup=f\"Distance to Highway: {highway_distance:.2f} km\").add_to(spacex_map)\n",
    "    folium.Marker(coastline, popup=f\"Distance to Coastline: {coastline_distance:.2f} km\").add_to(spacex_map)\n",
    "\n",
    "# Display the updated map with distances\n",
    "spacex_map\n"
   ]
  }
 ],
 "metadata": {},
 "nbformat": 4,
 "nbformat_minor": 5
}
