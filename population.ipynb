{
 "cells": [
  {
   "cell_type": "code",
   "execution_count": 1,
   "metadata": {},
   "outputs": [
    {
     "ename": "ModuleNotFoundError",
     "evalue": "No module named 'pandas'",
     "output_type": "error",
     "traceback": [
      "\u001b[1;31m---------------------------------------------------------------------------\u001b[0m",
      "\u001b[1;31mModuleNotFoundError\u001b[0m                       Traceback (most recent call last)",
      "Cell \u001b[1;32mIn[1], line 1\u001b[0m\n\u001b[1;32m----> 1\u001b[0m \u001b[38;5;28;01mimport\u001b[39;00m \u001b[38;5;21;01mpandas\u001b[39;00m \u001b[38;5;28;01mas\u001b[39;00m \u001b[38;5;21;01mpd\u001b[39;00m\n\u001b[0;32m      2\u001b[0m \u001b[38;5;28;01mimport\u001b[39;00m \u001b[38;5;21;01mstatsmodels\u001b[39;00m\u001b[38;5;21;01m.\u001b[39;00m\u001b[38;5;21;01mapi\u001b[39;00m \u001b[38;5;28;01mas\u001b[39;00m \u001b[38;5;21;01msm\u001b[39;00m\n\u001b[0;32m      3\u001b[0m \u001b[38;5;28;01mimport\u001b[39;00m \u001b[38;5;21;01mmatplotlib\u001b[39;00m\u001b[38;5;21;01m.\u001b[39;00m\u001b[38;5;21;01mpyplot\u001b[39;00m \u001b[38;5;28;01mas\u001b[39;00m \u001b[38;5;21;01mplt\u001b[39;00m\n",
      "\u001b[1;31mModuleNotFoundError\u001b[0m: No module named 'pandas'"
     ]
    }
   ],
   "source": [
    "import pandas as pd\n",
    "import statsmodels.api as sm\n",
    "import matplotlib.pyplot as plt"
   ]
  },
  {
   "cell_type": "code",
   "execution_count": null,
   "metadata": {},
   "outputs": [],
   "source": [
    "# Let's start by loading the provided CSV files to inspect and understand their contents.\n",
    "import pandas as pd\n",
    "\n",
    "# Load the files\n",
    "death_rate_df = pd.read_csv('C:/Users/YourUsername/Desktop/death-rate.csv')\n",
    "birth_rate_df = pd.read_csv('C:/Users/YourUsername/Desktop/crude-birth-rate.csv')\n",
    "primary_enrollment_df = pd.read_csv('C:/Users/YourUsername/Desktop/gross-enrollment-ratio-in-primary-education.csv')\n",
    "secondary_enrollment_df = pd.read_csv('C:/Users/YourUsername/Desktop/gross-enrollment-ratio-in-secondary-education.csv')\n",
    "\n",
    "# Display the first few rows of each file to understand the structure\n",
    "death_rate_df.head(), birth_rate_df.head(), primary_enrollment_df.head(), secondary_enrollment_df.head()\n"
   ]
  },
  {
   "cell_type": "code",
   "execution_count": null,
   "metadata": {},
   "outputs": [],
   "source": [
    "# Renaming columns for easier merging\n",
    "death_rate_df = death_rate_df.rename(columns={\"Death rate - Sex: all - Age: all - Variant: estimates\": \"Death_rate\"})\n",
    "birth_rate_df = birth_rate_df.rename(columns={\"Birth rate - Sex: all - Age: all - Variant: estimates\": \"Birth_rate\"})\n",
    "primary_enrollment_df = primary_enrollment_df.rename(columns={\"Gross enrolment ratio, primary, both sexes (%)\": \"Primary_enrollment_rate\"})\n",
    "secondary_enrollment_df = secondary_enrollment_df.rename(columns={\"Gross enrolment ratio, secondary, both sexes (%)\": \"Secondary_enrollment_rate\"})\n",
    "\n",
    "# Merging datasets on Entity, Code, and Year\n",
    "merged_df = death_rate_df.merge(birth_rate_df, on=[\"Entity\", \"Code\", \"Year\"], how=\"inner\")\n",
    "merged_df = merged_df.merge(primary_enrollment_df, on=[\"Entity\", \"Code\", \"Year\"], how=\"inner\")\n",
    "merged_df = merged_df.merge(secondary_enrollment_df, on=[\"Entity\", \"Code\", \"Year\"], how=\"inner\")\n",
    "\n",
    "# Displaying the first few rows of the merged dataset to ensure it looks correct\n",
    "merged_df.head()\n"
   ]
  },
  {
   "cell_type": "code",
   "execution_count": null,
   "metadata": {},
   "outputs": [],
   "source": [
    "import statsmodels.api as sm\n",
    "\n",
    "# Defining the independent variables (Primary and Secondary enrollment rates)\n",
    "X = merged_df[['Primary_enrollment_rate', 'Secondary_enrollment_rate']]\n",
    "X = sm.add_constant(X)  # Adding a constant term for the intercept\n",
    "\n",
    "# Regression analysis 1: Predicting Birth Rate\n",
    "Y_birth = merged_df['Birth_rate']\n",
    "model_birth = sm.OLS(Y_birth, X).fit()\n",
    "\n",
    "# Regression analysis 2: Predicting Death Rate\n",
    "Y_death = merged_df['Death_rate']\n",
    "model_death = sm.OLS(Y_death, X).fit()\n",
    "\n",
    "# Displaying the summary of both regression models\n",
    "model_birth_summary = model_birth.summary()\n",
    "model_death_summary = model_death.summary()\n",
    "\n",
    "model_birth_summary, model_death_summary"
   ]
  },
  {
   "cell_type": "code",
   "execution_count": null,
   "metadata": {},
   "outputs": [],
   "source": [
    "# Calculating the average annual growth rate for primary and secondary enrollment rates\n",
    "# We'll use the pct_change() method to get the year-on-year growth, then take the mean.\n",
    "\n",
    "# Calculating year-over-year growth rates\n",
    "merged_df['Primary_growth'] = merged_df['Primary_enrollment_rate'].pct_change()\n",
    "merged_df['Secondary_growth'] = merged_df['Secondary_enrollment_rate'].pct_change()\n",
    "\n",
    "# Dropping NaN values (first year for growth rate calculation)\n",
    "growth_df = merged_df.dropna(subset=['Primary_growth', 'Secondary_growth'])\n",
    "\n",
    "# Calculating average growth rates\n",
    "primary_avg_growth = growth_df['Primary_growth'].mean()\n",
    "secondary_avg_growth = growth_df['Secondary_growth'].mean()\n",
    "\n",
    "primary_avg_growth, secondary_avg_growth"
   ]
  },
  {
   "cell_type": "code",
   "execution_count": null,
   "metadata": {},
   "outputs": [],
   "source": [
    "# Checking for any zero or very small values in enrollment rates that could cause infinity in growth calculations\n",
    "print(\"Primary Enrollment Rate - Min Value:\", merged_df['Primary_enrollment_rate'].min())\n",
    "print(\"Secondary Enrollment Rate - Min Value:\", merged_df['Secondary_enrollment_rate'].min())\n",
    "\n",
    "# Remove entries with zero or near-zero enrollment rates to avoid infinity in percentage change calculation\n",
    "filtered_df = merged_df[(merged_df['Primary_enrollment_rate'] > 1) & (merged_df['Secondary_enrollment_rate'] > 1)]\n",
    "\n",
    "# Recalculating the year-over-year growth rates on filtered data\n",
    "filtered_df['Primary_growth'] = filtered_df['Primary_enrollment_rate'].pct_change()\n",
    "filtered_df['Secondary_growth'] = filtered_df['Secondary_enrollment_rate'].pct_change()\n",
    "\n",
    "# Dropping NaN values (first year for growth rate calculation)\n",
    "filtered_growth_df = filtered_df.dropna(subset=['Primary_growth', 'Secondary_growth'])\n",
    "\n",
    "# Calculating average growth rates after filtering\n",
    "primary_avg_growth_filtered = filtered_growth_df['Primary_growth'].mean()\n",
    "secondary_avg_growth_filtered = filtered_growth_df['Secondary_growth'].mean()\n",
    "\n",
    "primary_avg_growth_filtered, secondary_avg_growth_filtered\n"
   ]
  },
  {
   "cell_type": "code",
   "execution_count": null,
   "metadata": {},
   "outputs": [],
   "source": [
    "# Setting up future years for prediction (e.g., next 10 years)\n",
    "future_years = list(range(2024, 2034))\n",
    "\n",
    "# Starting with the latest available data for primary and secondary enrollment rates\n",
    "last_primary_rate = filtered_df['Primary_enrollment_rate'].iloc[-1]\n",
    "last_secondary_rate = filtered_df['Secondary_enrollment_rate'].iloc[-1]\n",
    "\n",
    "# Generate predicted enrollment rates for future years using the average growth rates\n",
    "predicted_primary_rates = [last_primary_rate * (1 + primary_avg_growth_filtered) ** (year - 2023) for year in future_years]\n",
    "predicted_secondary_rates = [last_secondary_rate * (1 + secondary_avg_growth_filtered) ** (year - 2023) for year in future_years]\n",
    "\n",
    "# Creating a DataFrame for future predictions\n",
    "future_data = pd.DataFrame({\n",
    "    'Year': future_years,\n",
    "    'Primary_enrollment_rate': predicted_primary_rates,\n",
    "    'Secondary_enrollment_rate': predicted_secondary_rates\n",
    "})\n",
    "\n",
    "# Adding a constant term for intercept\n",
    "future_X = sm.add_constant(future_data[['Primary_enrollment_rate', 'Secondary_enrollment_rate']])\n",
    "\n",
    "# Using the existing regression models to predict future birth and death rates\n",
    "future_data['Predicted_Birth_rate'] = model_birth.predict(future_X)\n",
    "future_data['Predicted_Death_rate'] = model_death.predict(future_X)\n",
    "\n",
    "import ace_tools as tools; tools.display_dataframe_to_user(name=\"Future Predictions of Birth and Death Rates\", dataframe=future_data)\n"
   ]
  },
  {
   "cell_type": "code",
   "execution_count": null,
   "metadata": {},
   "outputs": [],
   "source": []
  }
 ],
 "metadata": {
  "kernelspec": {
   "display_name": "Python 3",
   "language": "python",
   "name": "python3"
  },
  "language_info": {
   "codemirror_mode": {
    "name": "ipython",
    "version": 3
   },
   "file_extension": ".py",
   "mimetype": "text/x-python",
   "name": "python",
   "nbconvert_exporter": "python",
   "pygments_lexer": "ipython3",
   "version": "3.12.5"
  }
 },
 "nbformat": 4,
 "nbformat_minor": 2
}
