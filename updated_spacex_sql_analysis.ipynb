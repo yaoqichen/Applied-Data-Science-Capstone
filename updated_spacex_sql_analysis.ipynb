{
 "cells": [
  {
   "cell_type": "markdown",
   "id": "c306fe4c",
   "metadata": {},
   "source": [
    "\n",
    "# SpaceX SQL Data Analysis Assignment\n",
    "This notebook will help in analyzing the SpaceX dataset using SQL queries to extract insights.\n",
    "\n",
    "Tasks to be performed:\n",
    "1. Understand the SpaceX dataset.\n",
    "2. Load the dataset into a SQLite database.\n",
    "3. Execute SQL queries to answer questions based on the dataset.\n"
   ]
  },
  {
   "cell_type": "code",
   "execution_count": null,
   "id": "749e7c15",
   "metadata": {},
   "outputs": [],
   "source": [
    "\n",
    "# Import necessary libraries\n",
    "import sqlite3\n",
    "import pandas as pd\n",
    "\n",
    "# Create a SQLite connection\n",
    "conn = sqlite3.connect('spacex.db')\n",
    "\n",
    "# Load SpaceX dataset into a DataFrame\n",
    "url = \"https://cf-courses-data.s3.us.cloud-object-storage.appdomain.cloud/IBMDeveloperSkillsNetwork-DB0201EN-SkillsNetwork/labs/Module%205/spacex_launch_data.csv\"\n",
    "spacex_df = pd.read_csv(url)\n",
    "\n",
    "# Create a table in SQLite and load the data\n",
    "spacex_df.to_sql('SPACEX_LAUNCH_DATA', conn, if_exists='replace', index=False)\n",
    "\n",
    "# Display the first few rows of the dataset\n",
    "spacex_df.head()\n"
   ]
  },
  {
   "cell_type": "code",
   "execution_count": null,
   "id": "9297a93d",
   "metadata": {},
   "outputs": [],
   "source": [
    "\n",
    "# Query 1: Find the total number of successful landings\n",
    "query_1 = '''\n",
    "SELECT COUNT(*) AS total_successful_landings\n",
    "FROM SPACEX_LAUNCH_DATA\n",
    "WHERE landing__outcome = 'Success';\n",
    "'''\n",
    "result_1 = pd.read_sql(query_1, conn)\n",
    "result_1\n"
   ]
  },
  {
   "cell_type": "code",
   "execution_count": null,
   "id": "2bdfb94e",
   "metadata": {},
   "outputs": [],
   "source": [
    "\n",
    "# Query 2: Find the total payload mass carried for each mission\n",
    "query_2 = '''\n",
    "SELECT mission_name, SUM(payload_mass__kg_) AS total_payload_mass\n",
    "FROM SPACEX_LAUNCH_DATA\n",
    "GROUP BY mission_name\n",
    "ORDER BY total_payload_mass DESC;\n",
    "'''\n",
    "result_2 = pd.read_sql(query_2, conn)\n",
    "result_2\n"
   ]
  },
  {
   "cell_type": "code",
   "execution_count": null,
   "id": "981b1b4e",
   "metadata": {},
   "outputs": [],
   "source": [
    "\n",
    "# Query 3: Fetch launch success rate per year\n",
    "query_3 = '''\n",
    "SELECT strftime('%Y', date) AS launch_year, \n",
    "    COUNT(*) AS total_launches, \n",
    "    SUM(CASE WHEN mission_outcome = 'Success' THEN 1 ELSE 0 END) AS successful_launches,\n",
    "    (CAST(SUM(CASE WHEN mission_outcome = 'Success' THEN 1 ELSE 0 END) AS FLOAT) / COUNT(*)) * 100 AS success_rate\n",
    "FROM SPACEX_LAUNCH_DATA\n",
    "GROUP BY launch_year\n",
    "ORDER BY launch_year;\n",
    "'''\n",
    "result_3 = pd.read_sql(query_3, conn)\n",
    "result_3\n"
   ]
  },
  {
   "cell_type": "code",
   "execution_count": null,
   "id": "035f5450",
   "metadata": {},
   "outputs": [],
   "source": [
    "\n",
    "# Query 4: Find the most common launch site used\n",
    "query_4 = '''\n",
    "SELECT launch_site, COUNT(*) AS launches_count\n",
    "FROM SPACEX_LAUNCH_DATA\n",
    "GROUP BY launch_site\n",
    "ORDER BY launches_count DESC\n",
    "LIMIT 1;\n",
    "'''\n",
    "result_4 = pd.read_sql(query_4, conn)\n",
    "result_4\n"
   ]
  },
  {
   "cell_type": "code",
   "execution_count": null,
   "id": "47815f39",
   "metadata": {},
   "outputs": [],
   "source": [
    "\n",
    "# Query 5: Find the most frequent booster version used\n",
    "query_5 = '''\n",
    "SELECT booster_version, COUNT(*) AS booster_usage_count\n",
    "FROM SPACEX_LAUNCH_DATA\n",
    "GROUP BY booster_version\n",
    "ORDER BY booster_usage_count DESC\n",
    "LIMIT 1;\n",
    "'''\n",
    "result_5 = pd.read_sql(query_5, conn)\n",
    "result_5\n"
   ]
  },
  {
   "cell_type": "code",
   "execution_count": null,
   "id": "7097d44d",
   "metadata": {},
   "outputs": [],
   "source": [
    "\n",
    "# Closing the connection\n",
    "conn.close()\n"
   ]
  }
 ],
 "metadata": {},
 "nbformat": 4,
 "nbformat_minor": 5
}
