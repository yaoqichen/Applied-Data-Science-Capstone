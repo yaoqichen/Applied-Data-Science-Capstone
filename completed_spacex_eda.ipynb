{
 "cells": [
  {
   "cell_type": "markdown",
   "id": "1aa42a34",
   "metadata": {},
   "source": [
    "\n",
    "# **SpaceX  Falcon 9 First Stage Landing Prediction**\n",
    "## Assignment: Exploring and Preparing Data\n",
    "\n",
    "In this assignment, we will predict if the Falcon 9 first stage will land successfully. SpaceX advertises Falcon 9 rocket launches on its website with a cost of 62 million dollars; other providers cost upward of 165 million dollars each, much of the savings is due to the fact that SpaceX can reuse the first stage.\n",
    "\n",
    "In this lab, you will perform Exploratory Data Analysis and Feature Engineering.\n"
   ]
  },
  {
   "cell_type": "code",
   "execution_count": null,
   "id": "e71939b0",
   "metadata": {},
   "outputs": [],
   "source": [
    "\n",
    "# Import necessary libraries\n",
    "import pandas as pd\n",
    "import numpy as np\n",
    "\n",
    "# Load SpaceX dataset\n",
    "data_url = \"https://cf-courses-data.s3.us.cloud-object-storage.appdomain.cloud/IBMDeveloperSkillsNetwork-DS0321EN-SpaceX/labs/module_1/spacex_launch_data.csv\"\n",
    "df = pd.read_csv(data_url)\n",
    "\n",
    "# Display the first few rows of the dataframe\n",
    "df.head()\n"
   ]
  },
  {
   "cell_type": "code",
   "execution_count": null,
   "id": "9aa4f0e9",
   "metadata": {},
   "outputs": [],
   "source": [
    "\n",
    "# TASK 1: Remove irrelevant or missing data\n",
    "# Drop rows where important columns have NaN values\n",
    "df = df.dropna(subset=['FlightNumber', 'PayloadMass', 'Orbit', 'LaunchSite', 'Outcome', 'Flights', 'GridFins', 'Reused', 'Legs', 'LandingOutcome'])\n",
    "df.reset_index(drop=True, inplace=True)\n",
    "df.head()\n"
   ]
  },
  {
   "cell_type": "code",
   "execution_count": null,
   "id": "cfc8671b",
   "metadata": {},
   "outputs": [],
   "source": [
    "\n",
    "# TASK 2: One-hot encode categorical columns\n",
    "# Using pandas get_dummies() for one-hot encoding\n",
    "features_one_hot = pd.get_dummies(df, columns=['Orbit', 'LaunchSite', 'Outcome', 'LandingOutcome'])\n",
    "features_one_hot.head()\n"
   ]
  },
  {
   "cell_type": "code",
   "execution_count": null,
   "id": "440f4680",
   "metadata": {},
   "outputs": [],
   "source": [
    "\n",
    "# TASK 3: Cast numeric columns to float64\n",
    "features_one_hot = features_one_hot.astype('float64')\n",
    "features_one_hot.dtypes\n"
   ]
  },
  {
   "cell_type": "code",
   "execution_count": null,
   "id": "2da864d7",
   "metadata": {},
   "outputs": [],
   "source": [
    "\n",
    "# TASK 4: Export the cleaned and transformed dataset to CSV\n",
    "features_one_hot.to_csv('spacex_cleaned_data.csv', index=False)\n"
   ]
  }
 ],
 "metadata": {},
 "nbformat": 4,
 "nbformat_minor": 5
}
